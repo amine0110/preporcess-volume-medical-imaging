{
 "cells": [
  {
   "cell_type": "code",
   "execution_count": 13,
   "source": [
    "import os\r\n",
    "from glob import glob\r\n",
    "\r\n",
    "import torch\r\n",
    "from monai.transforms import (\r\n",
    "    Compose,\r\n",
    "    LoadImaged,\r\n",
    "    ToTensord,\r\n",
    "    AddChanneld,\r\n",
    "\r\n",
    ")\r\n",
    "\r\n",
    "from monai.data import Dataset, DataLoader"
   ],
   "outputs": [],
   "metadata": {}
  },
  {
   "cell_type": "code",
   "execution_count": 2,
   "source": [
    "data_dir = 'D:/3_Stage/ALL_THE_DATA/fixed_data_03_august/all_together'"
   ],
   "outputs": [],
   "metadata": {}
  },
  {
   "cell_type": "code",
   "execution_count": 15,
   "source": [
    "train_images = sorted(glob(os.path.join(data_dir, 'TrainData', '*.nii.gz')))\r\n",
    "train_labels = sorted(glob(os.path.join(data_dir, 'TrainLabels', '*.nii.gz')))\r\n",
    "\r\n",
    "val_images = sorted(glob(os.path.join(data_dir, 'ValData', '*.nii.gz')))\r\n",
    "val_labels = sorted(glob(os.path.join(data_dir, 'ValLabels', '*.nii.gz')))\r\n",
    "\r\n",
    "train_files = [{\"image\": image_name, 'label': label_name} for image_name, label_name in zip(train_images, train_labels)]\r\n",
    "val_files = [{\"image\": image_name, 'label': label_name} for image_name, label_name in zip(val_images, val_labels)]\r\n"
   ],
   "outputs": [],
   "metadata": {}
  },
  {
   "cell_type": "code",
   "execution_count": 11,
   "source": [
    "# load the images\r\n",
    "# do any transforms\r\n",
    "# need to convert them into troch tensors\r\n",
    "\r\n",
    "train_transforms = Compose(\r\n",
    "\r\n",
    "    [\r\n",
    "        LoadImaged(keys=['image', 'label']),\r\n",
    "        AddChanneld(keys=['image', 'label']),\r\n",
    "        ToTensord(keys=['image', 'labels'])\r\n",
    "    ]\r\n",
    ")\r\n",
    "\r\n",
    "\r\n",
    "val_transforms = Compose(\r\n",
    "\r\n",
    "    [\r\n",
    "        LoadImaged(keys=['image', 'label']),\r\n",
    "        AddChanneld(keys=['image', 'label']),\r\n",
    "        ToTensord(keys=['image', 'labels'])\r\n",
    "    ]\r\n",
    ")"
   ],
   "outputs": [],
   "metadata": {}
  },
  {
   "cell_type": "code",
   "execution_count": 16,
   "source": [
    "train_ds = Dataset(data=train_files, transform=train_transforms)\r\n",
    "train_loader = DataLoader(train_ds, batch_size=1)\r\n",
    "\r\n",
    "val_ds = Dataset(data=val_files, transform=val_transforms)\r\n",
    "val_loader = DataLoader(val_ds, batch_size=1)"
   ],
   "outputs": [],
   "metadata": {}
  },
  {
   "cell_type": "code",
   "execution_count": null,
   "source": [],
   "outputs": [],
   "metadata": {}
  }
 ],
 "metadata": {
  "orig_nbformat": 4,
  "language_info": {
   "name": "python",
   "version": "3.7.10",
   "mimetype": "text/x-python",
   "codemirror_mode": {
    "name": "ipython",
    "version": 3
   },
   "pygments_lexer": "ipython3",
   "nbconvert_exporter": "python",
   "file_extension": ".py"
  },
  "kernelspec": {
   "name": "python3",
   "display_name": "Python 3.7.10 64-bit ('pytorch': conda)"
  },
  "interpreter": {
   "hash": "af407973ba12897262deda9d8992946cc1a9873fff2de40f1acc89cdf9010052"
  }
 },
 "nbformat": 4,
 "nbformat_minor": 2
}